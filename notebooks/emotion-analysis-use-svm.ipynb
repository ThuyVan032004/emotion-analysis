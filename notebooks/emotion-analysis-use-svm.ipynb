{
  "cells": [
    {
      "cell_type": "markdown",
      "metadata": {
        "id": "Es7rEia6K39_"
      },
      "source": [
        "# Exploratory data analysis"
      ]
    },
    {
      "cell_type": "code",
      "source": [
        "# !pip install -r requirements.txt"
      ],
      "metadata": {
        "id": "VYDvbXjpK_pQ"
      },
      "execution_count": 1,
      "outputs": []
    },
    {
      "cell_type": "code",
      "execution_count": 2,
      "metadata": {
        "id": "y1t-k4yVK3-C"
      },
      "outputs": [],
      "source": [
        "import pandas as pd"
      ]
    },
    {
      "cell_type": "code",
      "execution_count": 3,
      "metadata": {
        "id": "qLJNEWEoK3-D"
      },
      "outputs": [],
      "source": [
        "data_frame = pd.read_csv('text copy.csv')"
      ]
    },
    {
      "cell_type": "code",
      "execution_count": 4,
      "metadata": {
        "id": "Q0WL0J0uK3-D"
      },
      "outputs": [],
      "source": [
        "# data_frame['label']"
      ]
    },
    {
      "cell_type": "code",
      "execution_count": 5,
      "metadata": {
        "id": "xqpcFKW-K3-E"
      },
      "outputs": [],
      "source": [
        "# data_frame.head()"
      ]
    },
    {
      "cell_type": "markdown",
      "metadata": {
        "id": "sdf-I_4dK3-E"
      },
      "source": [
        "* Note: 0 = sad, 1 = joy, 2 = love, 3 = anger, 4 = fear, 5 = suprise"
      ]
    },
    {
      "cell_type": "markdown",
      "metadata": {
        "id": "73dPPR6eK3-E"
      },
      "source": [
        "Before spliting dataset, we need to check the distribution of the 'label' column"
      ]
    },
    {
      "cell_type": "code",
      "execution_count": 6,
      "metadata": {
        "id": "dbR4j_wjK3-F"
      },
      "outputs": [],
      "source": [
        "# data_frame.label.value_counts()"
      ]
    },
    {
      "cell_type": "code",
      "execution_count": 7,
      "metadata": {
        "id": "OzeWHWAvK3-F"
      },
      "outputs": [],
      "source": [
        "del data_frame['Unnamed: 0']"
      ]
    },
    {
      "cell_type": "code",
      "execution_count": 8,
      "metadata": {
        "id": "aIikAigSK3-F"
      },
      "outputs": [],
      "source": [
        "from collections import Counter\n",
        "import matplotlib.pyplot as plt\n",
        "import seaborn as sns; sns.set_theme()\n",
        "import warnings; warnings.filterwarnings('ignore')\n",
        "from wordcloud import WordCloud, STOPWORDS\n",
        "import numpy as np"
      ]
    },
    {
      "cell_type": "code",
      "execution_count": 9,
      "metadata": {
        "colab": {
          "base_uri": "https://localhost:8080/"
        },
        "id": "bsWqAl12K3-F",
        "outputId": "5a90f607-10d2-4355-83e6-3ec26e508269"
      },
      "outputs": [
        {
          "output_type": "execute_result",
          "data": {
            "text/plain": [
              "[(1, 141067), (0, 121187), (3, 57317), (4, 47712), (2, 34554), (5, 14972)]"
            ]
          },
          "metadata": {},
          "execution_count": 9
        }
      ],
      "source": [
        "all_labels = Counter(data_frame.label)\n",
        "all_labels.most_common()"
      ]
    },
    {
      "cell_type": "code",
      "execution_count": 10,
      "metadata": {
        "colab": {
          "base_uri": "https://localhost:8080/",
          "height": 250
        },
        "id": "UBLZRPUgK3-G",
        "outputId": "ccaa3395-950b-4f25-c295-589c75d80323"
      },
      "outputs": [
        {
          "output_type": "display_data",
          "data": {
            "text/plain": [
              "<Figure size 1000x300 with 1 Axes>"
            ],
            "image/png": "[encoded data removed]"
          },
          "metadata": {}
        }
      ],
      "source": [
        "labels, label_counts = zip(*all_labels.most_common())\n",
        "plt.figure(figsize=(10,3))\n",
        "ax = sns.barplot(x=list(labels), y=list(label_counts))\n",
        "ax.set_xticklabels(labels, rotation=0)\n",
        "plt.title('Label distribution')\n",
        "plt.show()"
      ]
    },
    {
      "cell_type": "code",
      "source": [
        "def balance_dataset(df, label_ratios):\n",
        "    \"\"\"Balances the dataset by downsampling specific labels.\n",
        "\n",
        "    Args:\n",
        "        df: The Pandas DataFrame containing the data.\n",
        "        label_ratios: A dictionary mapping labels to their desired ratios\n",
        "                      relative to the smallest class.\n",
        "                      e.g., {0: 1, 1: 1, 2: 0.7, 3: 0.5, 4: 0.6, 5: 0.2}\n",
        "                      means label 0 and 1 will have the same number of samples\n",
        "                      (the smallest class size), label 2 will have 70% of\n",
        "                      that size, label 3 will have 50%, and so on.\n",
        "\n",
        "    Returns:\n",
        "        A balanced DataFrame.\n",
        "    \"\"\"\n",
        "\n",
        "    # Find the label with the minimum number of samples\n",
        "    min_count = df['label'].value_counts().min()\n",
        "\n",
        "    # Create a new DataFrame to store the balanced data\n",
        "    balanced_df = pd.DataFrame()\n",
        "\n",
        "    # Downsample each label based on the specified ratios\n",
        "    for label, ratio in label_ratios.items():\n",
        "        label_indices = df[df['label'] == label].index\n",
        "        num_to_keep = int(min_count * ratio)\n",
        "        keep_indices = np.random.choice(label_indices, size=num_to_keep, replace=False)\n",
        "        balanced_df = pd.concat([balanced_df, df.loc[keep_indices]])\n",
        "\n",
        "    return balanced_df\n"
      ],
      "metadata": {
        "id": "TEVashuP5tEW"
      },
      "execution_count": 11,
      "outputs": []
    },
    {
      "cell_type": "code",
      "source": [
        "\n",
        "# Define your desired label ratios:\n",
        "label_ratios = {0: 1, 1: 1.1, 2: 1, 3: 1, 4: 1.1, 5: 1}  # Example ratios\n",
        "\n",
        "# Balance the dataset:\n",
        "data_frame = balance_dataset(data_frame, label_ratios)"
      ],
      "metadata": {
        "id": "PItOAVeT5usS"
      },
      "execution_count": 12,
      "outputs": []
    },
    {
      "cell_type": "code",
      "execution_count": 13,
      "metadata": {
        "id": "Cg5Z_7dWK3-G"
      },
      "outputs": [],
      "source": [
        "# len(data_frame)"
      ]
    },
    {
      "cell_type": "code",
      "execution_count": 14,
      "metadata": {
        "id": "ELI2bOkHK3-G"
      },
      "outputs": [],
      "source": [
        "data_frame.to_csv('text.csv', index=False)"
      ]
    },
    {
      "cell_type": "code",
      "execution_count": 15,
      "metadata": {
        "id": "uV_U4NxwK3-G"
      },
      "outputs": [],
      "source": [
        "data_frame = pd.read_csv('text.csv')"
      ]
    },
    {
      "cell_type": "code",
      "execution_count": 16,
      "metadata": {
        "id": "5OWCEn9xK3-G"
      },
      "outputs": [],
      "source": [
        "# data_frame"
      ]
    },
    {
      "cell_type": "code",
      "execution_count": 17,
      "metadata": {
        "colab": {
          "base_uri": "https://localhost:8080/",
          "height": 303
        },
        "id": "b3CDYyiPK3-G",
        "outputId": "67be51e0-520a-411f-cd08-f9e904b973a8"
      },
      "outputs": [
        {
          "output_type": "execute_result",
          "data": {
            "text/plain": [
              "label\n",
              "1    16469\n",
              "4    16469\n",
              "0    14972\n",
              "2    14972\n",
              "3    14972\n",
              "5    14972\n",
              "Name: count, dtype: int64"
            ],
            "text/html": [
              "<div>\n",
              "<style scoped>\n",
              "    .dataframe tbody tr th:only-of-type {\n",
              "        vertical-align: middle;\n",
              "    }\n",
              "\n",
              "    .dataframe tbody tr th {\n",
              "        vertical-align: top;\n",
              "    }\n",
              "\n",
              "    .dataframe thead th {\n",
              "        text-align: right;\n",
              "    }\n",
              "</style>\n",
              "<table border=\"1\" class=\"dataframe\">\n",
              "  <thead>\n",
              "    <tr style=\"text-align: right;\">\n",
              "      <th></th>\n",
              "      <th>count</th>\n",
              "    </tr>\n",
              "    <tr>\n",
              "      <th>label</th>\n",
              "      <th></th>\n",
              "    </tr>\n",
              "  </thead>\n",
              "  <tbody>\n",
              "    <tr>\n",
              "      <th>1</th>\n",
              "      <td>16469</td>\n",
              "    </tr>\n",
              "    <tr>\n",
              "      <th>4</th>\n",
              "      <td>16469</td>\n",
              "    </tr>\n",
              "    <tr>\n",
              "      <th>0</th>\n",
              "      <td>14972</td>\n",
              "    </tr>\n",
              "    <tr>\n",
              "      <th>2</th>\n",
              "      <td>14972</td>\n",
              "    </tr>\n",
              "    <tr>\n",
              "      <th>3</th>\n",
              "      <td>14972</td>\n",
              "    </tr>\n",
              "    <tr>\n",
              "      <th>5</th>\n",
              "      <td>14972</td>\n",
              "    </tr>\n",
              "  </tbody>\n",
              "</table>\n",
              "</div><br><label><b>dtype:</b> int64</label>"
            ]
          },
          "metadata": {},
          "execution_count": 17
        }
      ],
      "source": [
        "data_frame.label.value_counts()"
      ]
    },
    {
      "cell_type": "code",
      "execution_count": 18,
      "metadata": {
        "id": "nftlFzYTK3-H"
      },
      "outputs": [],
      "source": [
        "# label = 3\n",
        "# plt.figure(figsize=(20,8))\n",
        "# subset = data_frame[data_frame.label == label]\n",
        "# text = subset.text.values\n",
        "# cloud = WordCloud(stopwords=STOPWORDS, background_color='black', collocations=True,\n",
        "#                   width=900, height=500).generate(\" \".join(text))\n",
        "# plt.axis(\"off\")\n",
        "# plt.imshow(cloud)"
      ]
    },
    {
      "cell_type": "markdown",
      "metadata": {
        "id": "huJsubEwK3-H"
      },
      "source": [
        "# Data preprocessing"
      ]
    },
    {
      "cell_type": "markdown",
      "metadata": {
        "id": "tEMwzEl8K3-H"
      },
      "source": [
        "Remove null values if exist"
      ]
    },
    {
      "cell_type": "code",
      "execution_count": 19,
      "metadata": {
        "id": "6guhB52CK3-H"
      },
      "outputs": [],
      "source": [
        "# data_frame.isnull().value_counts()"
      ]
    },
    {
      "cell_type": "markdown",
      "metadata": {
        "id": "4qWK53R9K3-H"
      },
      "source": [
        "Remove stopwords"
      ]
    },
    {
      "cell_type": "code",
      "execution_count": 20,
      "metadata": {
        "id": "1rIk-JfIK3-H"
      },
      "outputs": [],
      "source": [
        "import nltk\n",
        "from nltk.corpus import stopwords\n",
        "from nltk.stem import WordNetLemmatizer, PorterStemmer\n",
        "import re"
      ]
    },
    {
      "cell_type": "code",
      "execution_count": 21,
      "metadata": {
        "colab": {
          "base_uri": "https://localhost:8080/"
        },
        "id": "wNkvkbgoK3-H",
        "outputId": "f44cf18b-8a36-4acf-d0ca-de40eab18203"
      },
      "outputs": [
        {
          "output_type": "stream",
          "name": "stderr",
          "text": [
            "[nltk_data] Downloading package stopwords to /root/nltk_data...\n",
            "[nltk_data]   Package stopwords is already up-to-date!\n",
            "[nltk_data] Downloading package wordnet to /root/nltk_data...\n",
            "[nltk_data]   Package wordnet is already up-to-date!\n"
          ]
        },
        {
          "output_type": "execute_result",
          "data": {
            "text/plain": [
              "True"
            ]
          },
          "metadata": {},
          "execution_count": 21
        }
      ],
      "source": [
        "nltk.download('stopwords')\n",
        "nltk.download('wordnet')"
      ]
    },
    {
      "cell_type": "code",
      "execution_count": 22,
      "metadata": {
        "id": "pFsmFIDQK3-I"
      },
      "outputs": [],
      "source": [
        "STOPWORDS = stopwords.words('english')"
      ]
    },
    {
      "cell_type": "code",
      "execution_count": 23,
      "metadata": {
        "id": "0qgrC_VQK3-I"
      },
      "outputs": [],
      "source": [
        "def clean_text(text, stopwords=STOPWORDS):\n",
        "    # Lower\n",
        "    text = text.lower()\n",
        "\n",
        "    # Remove stopwords\n",
        "    pattern = re.compile(r'\\b(' + r'|'.join(stopwords) + r')\\b\\s*')\n",
        "    text = pattern.sub(\"\", text)\n",
        "\n",
        "    # Spacing and filters\n",
        "    text = re.sub(r\"([!\\\"'#$%&()*\\+,-./:;<=>?@\\\\\\[\\]^_`{|}~])\", r\" \\1 \", text)\n",
        "    text = re.sub(\"[^A-Za-z0-9]+\", \" \", text)\n",
        "    text = re.sub(\" +\", \" \", text)\n",
        "    text = re.sub(\"http\\S+\", \"\", text)\n",
        "\n",
        "    return text"
      ]
    },
    {
      "cell_type": "code",
      "execution_count": 24,
      "metadata": {
        "colab": {
          "base_uri": "https://localhost:8080/",
          "height": 53
        },
        "id": "NFfkUyNjK3-I",
        "outputId": "d37713cc-4181-4619-97c2-199b090c80cc"
      },
      "outputs": [
        {
          "output_type": "execute_result",
          "data": {
            "text/plain": [
              "'im coming understand people feeling rejected see social sarah everywhere go dont see sarah like big crowds really enjoys simple evenings family '"
            ],
            "application/vnd.google.colaboratory.intrinsic+json": {
              "type": "string"
            }
          },
          "metadata": {},
          "execution_count": 24
        }
      ],
      "source": [
        "original_df = data_frame.copy()\n",
        "data_frame.text = original_df.text.apply(clean_text)\n",
        "data_frame.text.values[900]"
      ]
    },
    {
      "cell_type": "code",
      "source": [
        "# def lemmatizer(text):\n",
        "#     lemmatizer = WordNetLemmatizer()\n",
        "#     text = ' '.join([lemmatizer.lemmatize(word) for word in text.split()])\n",
        "#     return text"
      ],
      "metadata": {
        "id": "UXINygsB5Snn"
      },
      "execution_count": 25,
      "outputs": []
    },
    {
      "cell_type": "markdown",
      "metadata": {
        "id": "dELPhT-uK3-I"
      },
      "source": [
        "Stemming"
      ]
    },
    {
      "cell_type": "code",
      "execution_count": 26,
      "metadata": {
        "id": "UpxbSkODK3-I"
      },
      "outputs": [],
      "source": [
        "def stemmer(text):\n",
        "    porter_stemmer = nltk.porter.PorterStemmer()\n",
        "    text = ' '.join([porter_stemmer.stem(word) for word in text.split()])\n",
        "    return text"
      ]
    },
    {
      "cell_type": "code",
      "execution_count": 27,
      "metadata": {
        "id": "wizJlHkMK3-I"
      },
      "outputs": [],
      "source": [
        "data_frame['text'] = data_frame['text'].apply(stemmer)"
      ]
    },
    {
      "cell_type": "code",
      "execution_count": 28,
      "metadata": {
        "id": "ybJAJpBgK3-I"
      },
      "outputs": [],
      "source": [
        "from sklearn.model_selection import train_test_split"
      ]
    },
    {
      "cell_type": "code",
      "execution_count": 29,
      "metadata": {
        "id": "bfCx7JozK3-I"
      },
      "outputs": [],
      "source": [
        "train_df, val_df = train_test_split(data_frame,\n",
        "                                    test_size=0.2,\n",
        "                                    stratify=data_frame['label'],\n",
        "                                    random_state=42)"
      ]
    },
    {
      "cell_type": "code",
      "execution_count": 30,
      "metadata": {
        "colab": {
          "base_uri": "https://localhost:8080/",
          "height": 303
        },
        "id": "1uDq3uArK3-I",
        "outputId": "c0e3f437-7d98-4d3b-b52c-bdc371d73ce0"
      },
      "outputs": [
        {
          "output_type": "execute_result",
          "data": {
            "text/plain": [
              "label\n",
              "1    13175\n",
              "4    13175\n",
              "5    11978\n",
              "2    11978\n",
              "3    11977\n",
              "0    11977\n",
              "Name: count, dtype: int64"
            ],
            "text/html": [
              "<div>\n",
              "<style scoped>\n",
              "    .dataframe tbody tr th:only-of-type {\n",
              "        vertical-align: middle;\n",
              "    }\n",
              "\n",
              "    .dataframe tbody tr th {\n",
              "        vertical-align: top;\n",
              "    }\n",
              "\n",
              "    .dataframe thead th {\n",
              "        text-align: right;\n",
              "    }\n",
              "</style>\n",
              "<table border=\"1\" class=\"dataframe\">\n",
              "  <thead>\n",
              "    <tr style=\"text-align: right;\">\n",
              "      <th></th>\n",
              "      <th>count</th>\n",
              "    </tr>\n",
              "    <tr>\n",
              "      <th>label</th>\n",
              "      <th></th>\n",
              "    </tr>\n",
              "  </thead>\n",
              "  <tbody>\n",
              "    <tr>\n",
              "      <th>1</th>\n",
              "      <td>13175</td>\n",
              "    </tr>\n",
              "    <tr>\n",
              "      <th>4</th>\n",
              "      <td>13175</td>\n",
              "    </tr>\n",
              "    <tr>\n",
              "      <th>5</th>\n",
              "      <td>11978</td>\n",
              "    </tr>\n",
              "    <tr>\n",
              "      <th>2</th>\n",
              "      <td>11978</td>\n",
              "    </tr>\n",
              "    <tr>\n",
              "      <th>3</th>\n",
              "      <td>11977</td>\n",
              "    </tr>\n",
              "    <tr>\n",
              "      <th>0</th>\n",
              "      <td>11977</td>\n",
              "    </tr>\n",
              "  </tbody>\n",
              "</table>\n",
              "</div><br><label><b>dtype:</b> int64</label>"
            ]
          },
          "metadata": {},
          "execution_count": 30
        }
      ],
      "source": [
        "train_df.label.value_counts()"
      ]
    },
    {
      "cell_type": "markdown",
      "metadata": {
        "id": "cYh7DylOK3-I"
      },
      "source": [
        "To check if the data splits have similar distribution, we multiply the value counts of validation_df to 4 (= train size/ validation size)"
      ]
    },
    {
      "cell_type": "code",
      "execution_count": 31,
      "metadata": {
        "colab": {
          "base_uri": "https://localhost:8080/",
          "height": 303
        },
        "id": "KAWGxDbkK3-J",
        "outputId": "b8955e1a-1497-4e29-f473-4c5d1af14162"
      },
      "outputs": [
        {
          "output_type": "execute_result",
          "data": {
            "text/plain": [
              "label\n",
              "4    13176\n",
              "1    13176\n",
              "3    11980\n",
              "0    11980\n",
              "5    11976\n",
              "2    11976\n",
              "Name: count, dtype: int64"
            ],
            "text/html": [
              "<div>\n",
              "<style scoped>\n",
              "    .dataframe tbody tr th:only-of-type {\n",
              "        vertical-align: middle;\n",
              "    }\n",
              "\n",
              "    .dataframe tbody tr th {\n",
              "        vertical-align: top;\n",
              "    }\n",
              "\n",
              "    .dataframe thead th {\n",
              "        text-align: right;\n",
              "    }\n",
              "</style>\n",
              "<table border=\"1\" class=\"dataframe\">\n",
              "  <thead>\n",
              "    <tr style=\"text-align: right;\">\n",
              "      <th></th>\n",
              "      <th>count</th>\n",
              "    </tr>\n",
              "    <tr>\n",
              "      <th>label</th>\n",
              "      <th></th>\n",
              "    </tr>\n",
              "  </thead>\n",
              "  <tbody>\n",
              "    <tr>\n",
              "      <th>4</th>\n",
              "      <td>13176</td>\n",
              "    </tr>\n",
              "    <tr>\n",
              "      <th>1</th>\n",
              "      <td>13176</td>\n",
              "    </tr>\n",
              "    <tr>\n",
              "      <th>3</th>\n",
              "      <td>11980</td>\n",
              "    </tr>\n",
              "    <tr>\n",
              "      <th>0</th>\n",
              "      <td>11980</td>\n",
              "    </tr>\n",
              "    <tr>\n",
              "      <th>5</th>\n",
              "      <td>11976</td>\n",
              "    </tr>\n",
              "    <tr>\n",
              "      <th>2</th>\n",
              "      <td>11976</td>\n",
              "    </tr>\n",
              "  </tbody>\n",
              "</table>\n",
              "</div><br><label><b>dtype:</b> int64</label>"
            ]
          },
          "metadata": {},
          "execution_count": 31
        }
      ],
      "source": [
        "val_df.label.value_counts() * 4"
      ]
    },
    {
      "cell_type": "markdown",
      "metadata": {
        "id": "UXwJC7uSK3-J"
      },
      "source": [
        "Since the adjusted value counts of validation_df looks very similar to the value counts of train_df, these two data splits have the same class distribution"
      ]
    },
    {
      "cell_type": "markdown",
      "metadata": {
        "id": "sA006fNfK3-J"
      },
      "source": [
        "TF-IDF"
      ]
    },
    {
      "cell_type": "code",
      "execution_count": 32,
      "metadata": {
        "id": "8Kojncp3K3-J"
      },
      "outputs": [],
      "source": [
        "from sklearn.feature_extraction.text import TfidfVectorizer"
      ]
    },
    {
      "cell_type": "code",
      "execution_count": 33,
      "metadata": {
        "id": "UAG7hIHTK3-J"
      },
      "outputs": [],
      "source": [
        "X = train_df['text']\n",
        "y = train_df['label']"
      ]
    },
    {
      "cell_type": "code",
      "execution_count": 34,
      "metadata": {
        "id": "0InzbwHDK3-J"
      },
      "outputs": [],
      "source": [
        "tf = TfidfVectorizer(min_df=0.0,max_df=0.98,binary=False,ngram_range=(1,3), sublinear_tf=True)\n",
        "tf_train = tf.fit_transform(X)"
      ]
    },
    {
      "cell_type": "markdown",
      "metadata": {
        "id": "OqvUtlrvK3-K"
      },
      "source": [
        "SVM"
      ]
    },
    {
      "cell_type": "code",
      "execution_count": 35,
      "metadata": {
        "id": "2qPBItijK3-K"
      },
      "outputs": [],
      "source": [
        "from sklearn.svm import SVC\n",
        "from sklearn.metrics import classification_report, confusion_matrix"
      ]
    },
    {
      "cell_type": "code",
      "execution_count": null,
      "metadata": {
        "id": "e4qpEFv_K3-K"
      },
      "outputs": [],
      "source": [
        "svm = SVC(C=1, class_weight='balanced', kernel='linear')\n",
        "svm_model = svm.fit(tf_train, y)"
      ]
    },
    {
      "cell_type": "code",
      "execution_count": null,
      "metadata": {
        "id": "0XS-okLOK3-K"
      },
      "outputs": [],
      "source": [
        "tf_validation = tf.transform(val_df['text'])"
      ]
    },
    {
      "cell_type": "code",
      "execution_count": null,
      "metadata": {
        "id": "_HlHsc0EK3-K"
      },
      "outputs": [],
      "source": [
        "y_pred = svm_model.predict(tf_validation)"
      ]
    },
    {
      "cell_type": "code",
      "execution_count": null,
      "metadata": {
        "id": "ukg_5IMxK3-K"
      },
      "outputs": [],
      "source": [
        "print(classification_report(val_df['label'], y_pred))"
      ]
    },
    {
      "cell_type": "markdown",
      "metadata": {
        "id": "pn2tPqRVK3-K"
      },
      "source": [
        "Hyperparameter tuning"
      ]
    },
    {
      "cell_type": "code",
      "source": [
        "# !pip install scikit-optimize"
      ],
      "metadata": {
        "id": "dumkyfR3QzVk"
      },
      "execution_count": null,
      "outputs": []
    },
    {
      "cell_type": "code",
      "execution_count": null,
      "metadata": {
        "id": "-qZDrHXcK3-K"
      },
      "outputs": [],
      "source": [
        "# from skopt import BayesSearchCV\n",
        "# param_space = {\n",
        "#     'C': [0.1, 0.5, 1, 5, 10, 50, 100],\n",
        "#     'kernel': ['linear', 'rbf', 'poly', 'sigmoid'],\n",
        "#     'gamma': ['scale', 'auto', 0.001, 0.01, 0.1, 1],\n",
        "#     'class_weight': ['balanced', None],\n",
        "#     'degree': [2, 3, 4],  # Only matters for poly kernel\n",
        "#     'coef0': [0.0, 0.1, 0.5]  # Important for poly and sigmoid kernels\n",
        "# }\n",
        "# bayes_search = BayesSearchCV(SVC(), param_space, n_iter=10, cv=5, verbose=2)\n",
        "# bayes_search.fit(tf_train, y)"
      ]
    },
    {
      "cell_type": "markdown",
      "metadata": {
        "id": "rc22hCjhK3-K"
      },
      "source": [
        "Test model"
      ]
    },
    {
      "cell_type": "code",
      "execution_count": null,
      "metadata": {
        "id": "dYgaB_23K3-L"
      },
      "outputs": [],
      "source": [
        "def preprocess(input_text):\n",
        "    cleaned_text = clean_text(input_text)\n",
        "    stemmed_text = stemmer(cleaned_text)\n",
        "    tf_test = tf.transform([stemmed_text])\n",
        "    return tf_test"
      ]
    },
    {
      "cell_type": "code",
      "execution_count": null,
      "metadata": {
        "id": "wxBLabhJK3-L"
      },
      "outputs": [],
      "source": [
        "predictions = []\n",
        "\n",
        "for text in val_df.text.values:\n",
        "    processed_text = preprocess(text)\n",
        "    prediction = svm_model.predict(processed_text)\n",
        "    predictions.append(prediction[0])"
      ]
    },
    {
      "cell_type": "code",
      "execution_count": null,
      "metadata": {
        "id": "cOkDRGzSK3-L"
      },
      "outputs": [],
      "source": [
        "print(classification_report(val_df.label.values, predictions))"
      ]
    },
    {
      "cell_type": "code",
      "source": [
        "from sklearn.metrics import confusion_matrix"
      ],
      "metadata": {
        "id": "PyEnRNfqZ8TN"
      },
      "execution_count": null,
      "outputs": []
    },
    {
      "cell_type": "code",
      "source": [
        "cm = confusion_matrix(val_df.label.values, predictions)"
      ],
      "metadata": {
        "id": "Laju2U1dZ9CZ"
      },
      "execution_count": null,
      "outputs": []
    },
    {
      "cell_type": "code",
      "source": [
        "plt.figure(figsize=(10, 8))  # Adjust figure size if needed\n",
        "sns.heatmap(cm, annot=True, fmt=\"d\", cmap=\"Blues\",\n",
        "            xticklabels=['sad', 'joy', 'love', 'anger', 'fear', 'surprise'],\n",
        "            yticklabels=['sad', 'joy', 'love', 'anger', 'fear', 'surprise'])\n",
        "plt.xlabel(\"Predicted Labels\")\n",
        "plt.ylabel(\"True Labels\")\n",
        "plt.title(\"Confusion Matrix\")\n",
        "plt.show()"
      ],
      "metadata": {
        "id": "Jr2NFarHaC6K"
      },
      "execution_count": null,
      "outputs": []
    }
  ],
  "metadata": {
    "kernelspec": {
      "display_name": "Python 3",
      "name": "python3"
    },
    "language_info": {
      "codemirror_mode": {
        "name": "ipython",
        "version": 3
      },
      "file_extension": ".py",
      "mimetype": "text/x-python",
      "name": "python",
      "nbconvert_exporter": "python",
      "pygments_lexer": "ipython3",
      "version": "3.12.8"
    },
    "colab": {
      "provenance": []
    }
  },
  "nbformat": 4,
  "nbformat_minor": 0
}